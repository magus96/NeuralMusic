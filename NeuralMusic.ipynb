{
  "nbformat": 4,
  "nbformat_minor": 0,
  "metadata": {
    "colab": {
      "name": "NeuralMusic.ipynb",
      "version": "0.3.2",
      "provenance": []
    },
    "kernelspec": {
      "name": "python3",
      "display_name": "Python 3"
    },
    "accelerator": "GPU"
  },
  "cells": [
    {
      "cell_type": "code",
      "metadata": {
        "id": "j_zfqn5ql7KX",
        "colab_type": "code",
        "colab": {
          "base_uri": "https://localhost:8080/",
          "height": 621
        },
        "outputId": "f83656be-384e-4342-c126-655dcb21ec99"
      },
      "source": [
        "!apt install libasound2-dev portaudio19-dev libportaudio2 libportaudiocpp0 ffmpeg"
      ],
      "execution_count": 1,
      "outputs": [
        {
          "output_type": "stream",
          "text": [
            "Reading package lists... Done\n",
            "Building dependency tree       \n",
            "Reading state information... Done\n",
            "libasound2-dev is already the newest version (1.1.3-5ubuntu0.2).\n",
            "ffmpeg is already the newest version (7:3.4.6-0ubuntu0.18.04.1).\n",
            "The following package was automatically installed and is no longer required:\n",
            "  libnvidia-common-410\n",
            "Use 'apt autoremove' to remove it.\n",
            "Suggested packages:\n",
            "  portaudio19-doc\n",
            "The following NEW packages will be installed:\n",
            "  libportaudio2 libportaudiocpp0 portaudio19-dev\n",
            "0 upgraded, 3 newly installed, 0 to remove and 4 not upgraded.\n",
            "Need to get 184 kB of archives.\n",
            "After this operation, 891 kB of additional disk space will be used.\n",
            "Get:1 http://archive.ubuntu.com/ubuntu bionic/universe amd64 libportaudio2 amd64 19.6.0-1 [64.6 kB]\n",
            "Get:2 http://archive.ubuntu.com/ubuntu bionic/universe amd64 libportaudiocpp0 amd64 19.6.0-1 [15.1 kB]\n",
            "Get:3 http://archive.ubuntu.com/ubuntu bionic/universe amd64 portaudio19-dev amd64 19.6.0-1 [104 kB]\n",
            "Fetched 184 kB in 2s (92.2 kB/s)\n",
            "Selecting previously unselected package libportaudio2:amd64.\n",
            "(Reading database ... 131289 files and directories currently installed.)\n",
            "Preparing to unpack .../libportaudio2_19.6.0-1_amd64.deb ...\n",
            "Unpacking libportaudio2:amd64 (19.6.0-1) ...\n",
            "Selecting previously unselected package libportaudiocpp0:amd64.\n",
            "Preparing to unpack .../libportaudiocpp0_19.6.0-1_amd64.deb ...\n",
            "Unpacking libportaudiocpp0:amd64 (19.6.0-1) ...\n",
            "Selecting previously unselected package portaudio19-dev:amd64.\n",
            "Preparing to unpack .../portaudio19-dev_19.6.0-1_amd64.deb ...\n",
            "Unpacking portaudio19-dev:amd64 (19.6.0-1) ...\n",
            "Setting up libportaudio2:amd64 (19.6.0-1) ...\n",
            "Processing triggers for libc-bin (2.27-3ubuntu1) ...\n",
            "Setting up libportaudiocpp0:amd64 (19.6.0-1) ...\n",
            "Setting up portaudio19-dev:amd64 (19.6.0-1) ...\n",
            "Processing triggers for libc-bin (2.27-3ubuntu1) ...\n"
          ],
          "name": "stdout"
        }
      ]
    },
    {
      "cell_type": "code",
      "metadata": {
        "id": "sqopPE-zn9m6",
        "colab_type": "code",
        "colab": {
          "base_uri": "https://localhost:8080/",
          "height": 197
        },
        "outputId": "552b5d8b-e6b6-41e2-a8c1-22f35a09f868"
      },
      "source": [
        "!pip install pyaudio"
      ],
      "execution_count": 2,
      "outputs": [
        {
          "output_type": "stream",
          "text": [
            "Collecting pyaudio\n",
            "  Downloading https://files.pythonhosted.org/packages/ab/42/b4f04721c5c5bfc196ce156b3c768998ef8c0ae3654ed29ea5020c749a6b/PyAudio-0.2.11.tar.gz\n",
            "Building wheels for collected packages: pyaudio\n",
            "  Building wheel for pyaudio (setup.py) ... \u001b[?25l\u001b[?25hdone\n",
            "  Created wheel for pyaudio: filename=PyAudio-0.2.11-cp36-cp36m-linux_x86_64.whl size=51632 sha256=ceddbb6023ed41abb023fddd692da61ef37af1c84f3ae41c1fa9aaab38b96b39\n",
            "  Stored in directory: /root/.cache/pip/wheels/f4/a8/a4/292214166c2917890f85b2f72a8e5f13e1ffa527c4200dcede\n",
            "Successfully built pyaudio\n",
            "Installing collected packages: pyaudio\n",
            "Successfully installed pyaudio-0.2.11\n"
          ],
          "name": "stdout"
        }
      ]
    },
    {
      "cell_type": "code",
      "metadata": {
        "id": "8yfff8O_ohHz",
        "colab_type": "code",
        "colab": {}
      },
      "source": [
        "import pyaudio\n",
        "import wave\n",
        "import numpy as np\n",
        "\n",
        "import torch\n",
        "import torch.nn as nn\n",
        "import torch.optim as optim\n",
        "import torch.nn.functional as F\n",
        "from torchvision import datasets,transforms\n",
        "\n"
      ],
      "execution_count": 0,
      "outputs": []
    },
    {
      "cell_type": "code",
      "metadata": {
        "id": "LFIlIFbipd8u",
        "colab_type": "code",
        "colab": {}
      },
      "source": [
        "class Net(nn.Module):\n",
        "  def __init__(self):\n",
        "    super(Net,self).__init__()\n",
        "    self.conv1=nn.Conv2d(1,20,5,1)\n",
        "    self.conv2=nn.Conv2d(20,50,5,1)\n",
        "    self.fc1=nn.Linear(4*4*50,500)\n",
        "    self.fc2=nn.Linear(500,10)\n",
        "    \n",
        "    self.ordered_layers=[self.conv1,self.conv2,self.fc1,self.fc2]\n",
        "    \n",
        "  def forward(self,x):\n",
        "    x=F.relu(self.conv1(x))\n",
        "    x=F.max_pool2D(x,2,2)\n",
        "    x=F.relu(self.conv2(x))\n",
        "    x=F.max_pool2D(x,2,2)\n",
        "    x=x.view(-1,4*4*50)\n",
        "    x=F.relu(self.fc1(x))\n",
        "    x=self.fc2(x)\n",
        "    return F.log_softmax(x,dim=1)"
      ],
      "execution_count": 0,
      "outputs": []
    },
    {
      "cell_type": "code",
      "metadata": {
        "id": "ssTe7YoLscEI",
        "colab_type": "code",
        "colab": {}
      },
      "source": [
        "def open_stream(fs):\n",
        "  p=pyaudio.PyAudio()\n",
        "  stream=p.open(format=pyaudio.paFloat32,channels=1,rate=fs,output=True,output_device_index=0)\n",
        "  return p,stream"
      ],
      "execution_count": 0,
      "outputs": []
    },
    {
      "cell_type": "code",
      "metadata": {
        "id": "p4XM4EIw-GpE",
        "colab_type": "code",
        "colab": {}
      },
      "source": [
        "def gen(fs,freq,duration):\n",
        "  sinwave=np.sin(2*np.pi*np.arrange(fs*duration)*freq/fs)\n",
        "  sample=sinwave.astype(np.float32)\n",
        "  return 0.1*sample"
      ],
      "execution_count": 0,
      "outputs": []
    },
    {
      "cell_type": "code",
      "metadata": {
        "id": "C7-cLs2E-0xx",
        "colab_type": "code",
        "colab": {}
      },
      "source": [
        "def train(model,device,train_loader,optimizer,epoch):\n",
        "  model.train()\n",
        "  fs=44100\n",
        "  duration=0.01\n",
        "  f=200.0\n",
        "  p,stream=open_stream(fs)\n",
        "  frames=[]\n",
        "  for batch_idx, (data, target) in enumerate(train_loader):\n",
        "    data,target=data.to(device),target.to(device)\n",
        "    optimizer.zero_grad()\n",
        "    output=model(data)\n",
        "    loss=F.nll_loss(output,target)\n",
        "    loss.backward()\n",
        "    norms=[]\n",
        "    for layer in model.ordered_layers:\n",
        "      norm_grad=layer.weight.grad.norm()\n",
        "      norms.append(norm_grad)\n",
        "      \n",
        "      tone=f+(norms.numpy()*100.0)\n",
        "      tone=tone.astype(np.float32)\n",
        "      samples=gen(fs,tone,duration)\n",
        "      \n",
        "      frames.append(samples)\n",
        "    \n",
        "    silence=np.zeros(samples.shape[0]*2,dtyple=np.float32)\n",
        "    frames.append(silence)\n",
        "    optimizer.step()\n",
        "    \n",
        "    if batch_idx==150:\n",
        "      break\n",
        "      \n",
        "  wf=wave.open(\"sgdlr 0.01.wav\",\"wb\")\n",
        "  wf.setnchannels(1)\n",
        "  wf.setsampwidth(p.get_sample_size(pyaudio.paFloat32))\n",
        "  wf.setframerate(fs)\n",
        "  wf.writeframes(b''.join(frames))\n",
        "  wf.close()\n",
        "  \n",
        "  stream.stop_stream()\n",
        "  stream.close()\n",
        "  p.terminate()\n",
        "  \n",
        "  "
      ],
      "execution_count": 0,
      "outputs": []
    },
    {
      "cell_type": "code",
      "metadata": {
        "id": "JkNhWDxYC6of",
        "colab_type": "code",
        "colab": {}
      },
      "source": [
        "train_loader = torch.utils.data.DataLoader(\n",
        "        datasets.MNIST('../data', train=True, download=True,\n",
        "                       transform=transforms.Compose([\n",
        "                           transforms.ToTensor(),\n",
        "                           transforms.Normalize((0.1307,), (0.3081,))\n",
        "                       ])),\n",
        "        batch_size=256, shuffle=True)"
      ],
      "execution_count": 0,
      "outputs": []
    },
    {
      "cell_type": "code",
      "metadata": {
        "id": "A25rj80JDgRE",
        "colab_type": "code",
        "colab": {}
      },
      "source": [
        "device=torch.device('cuda')\n",
        "model=Net().to(device)"
      ],
      "execution_count": 0,
      "outputs": []
    },
    {
      "cell_type": "code",
      "metadata": {
        "id": "QvPjdAnEDkFC",
        "colab_type": "code",
        "colab": {}
      },
      "source": [
        "optimizer = optim.SGD(model.parameters(), lr=0.01, momentum=0.5)"
      ],
      "execution_count": 0,
      "outputs": []
    },
    {
      "cell_type": "code",
      "metadata": {
        "id": "iuZKsatUE4je",
        "colab_type": "code",
        "colab": {}
      },
      "source": [
        "for epoch in range(1, 10):\n",
        "        train(model, device, train_loader, optimizer, epoch)"
      ],
      "execution_count": 0,
      "outputs": []
    }
  ]
}